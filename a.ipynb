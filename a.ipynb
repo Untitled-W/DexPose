{
 "cells": [
  {
   "cell_type": "code",
   "execution_count": 12,
   "id": "04ec1baa",
   "metadata": {},
   "outputs": [
    {
     "name": "stdout",
     "output_type": "stream",
     "text": [
      "Here!\n",
      "dict_keys(['hand_tsls', 'hand_coeffs', 'side', 'hand_joints', 'obj_poses', 'object_names', 'object_mesh_path', 'object_points_ls', 'object_features_ls', 'mesh_norm_trans', 'frame_indices', 'task_description', 'which_dataset', 'which_sequence', 'extra_info']) torch.Size([120, 96])\n",
      "Here!\n",
      "dict_keys(['hand_tsls', 'hand_coeffs', 'side', 'hand_joints', 'obj_poses', 'object_names', 'object_mesh_path', 'object_points_ls', 'object_features_ls', 'mesh_norm_trans', 'frame_indices', 'task_description', 'which_dataset', 'which_sequence', 'extra_info']) torch.Size([120, 16, 4])\n"
     ]
    }
   ],
   "source": [
    "file_paths = [\"/home/qianxu/Desktop/Project/DexPose/human_sequences.pth\", \"/home/qianxu/Desktop/Project/DexPose/human_sequences_1.pth\"]\n",
    "\n",
    "for file_path in file_paths:\n",
    "    import human_sequence_data\n",
    "\n",
    "    import torch\n",
    "    with open(file_path, \"rb\") as f:\n",
    "        data = torch.load(f)\n",
    "\n",
    "\n",
    "    def to_dict(self):\n",
    "        data_dict = {\n",
    "            # Hand data\n",
    "            'hand_tsls': self.hand_tsls if self.hand_tsls is not None else None,\n",
    "            'hand_coeffs': self.hand_coeffs if self.hand_coeffs is not None else None,\n",
    "            'side': self.side,\n",
    "            'hand_joints': self.hand_joints if self.hand_joints is not None else None,\n",
    "\n",
    "            # Object data\n",
    "            'obj_poses': self.obj_poses if self.obj_poses is not None else None,\n",
    "            'object_names': self.object_names,\n",
    "            'object_mesh_path': self.object_mesh_path,\n",
    "            'object_points_ls': self.object_points_ls,\n",
    "            'object_features_ls': self.object_features_ls,\n",
    "            'mesh_norm_trans': torch.stack(self.mesh_norm_trans),\n",
    "\n",
    "            # Metadata\n",
    "            'frame_indices': self.frame_indices,\n",
    "            'task_description': self.task_description,\n",
    "            'which_dataset': self.which_dataset,\n",
    "            'which_sequence': self.which_sequence,\n",
    "            'extra_info': self.extra_info,\n",
    "        }\n",
    "        # change '/home/qianxu/Project24/TACO_Instructions/data/' in every item in 'object_mesh_path' to '/home/qianxu/Desktop/Project/DexPose/data/Taco/'\n",
    "        data_dict['object_mesh_path'] = [i.replace('/home/qianxu/Project24/TACO_Instructions/data/', '/home/qianxu/Desktop/Project/DexPose/data/Taco/') for i in data_dict['object_mesh_path']]\n",
    "        return data_dict\n",
    "\n",
    "\n",
    "    data_dict = [to_dict(item) for item in data]\n",
    "    print(\"Here!\")\n",
    "\n",
    "\n",
    "    # object = set(\n",
    "    #     name for item in data_dict       # 外层循环：遍历每个字典\n",
    "    #     for name in item['object_mesh_path'] # 内层循环：遍历字典中的名字列表\n",
    "    # )\n",
    "    # print(f\"Total number of objects: {len(object)}\")\n",
    "    # # count left hand and right hand\n",
    "    # left_hand_count = sum(1 for item in data_dict if item['side'] == 0)\n",
    "    # right_hand_count = sum(1 for item in data_dict if item['side'] == 1)\n",
    "    # print(f\"Total number of left hand objects: {left_hand_count}\")\n",
    "    # print(f\"Total number of right hand objects: {right_hand_count}\")\n",
    "\n",
    "\n",
    "    # for all item in data_dict, turn hand_coeffs which is [120, 96] into [120, 16, 6] (which is in rot6d) and turn into quaterion [120, 16, 4]\n",
    "    # from pytorch3d.transforms import rotation_6d_to_matrix, matrix_to_quaternion\n",
    "    # for item in data_dict:\n",
    "    #     hand_coeffs = item['hand_coeffs'].reshape(120, 16, 6)\n",
    "    #     hand_quats = matrix_to_quaternion(rotation_6d_to_matrix(hand_coeffs))\n",
    "    #     item['hand_coeffs'] = hand_quats\n",
    "\n",
    "    # torch.save(data_dict, \"/home/qianxu/Desktop/Project/DexPose/data_dict_wqx.pth\")\n",
    "    print(data_dict[0].keys(), data_dict[0]['hand_coeffs'].shape)"
   ]
  },
  {
   "cell_type": "code",
   "execution_count": 6,
   "id": "cf114a89",
   "metadata": {},
   "outputs": [],
   "source": [
    "from utils.vis_utils import vis_as_frame, visualize_human_sequence\n",
    "import torch\n",
    "data_dict = torch.load(\"/home/qianxu/Desktop/Project/DexPose/data_dict_wqx_1.pth\")\n",
    "# vis_grid(data_dict, \"vis_(data_dict_wqx_1)_grid\")\n",
    "# vis_as_frame(data_dict, \"vis_(data_dict_wqx_1)_frame\")\n",
    "visualize_human_sequence(\n",
    "    data_dict[109],\n",
    "    filename=\"vis_(data_dict_wqx_1)_109\")"
   ]
  },
  {
   "cell_type": "code",
   "execution_count": null,
   "id": "f14482ba",
   "metadata": {},
   "outputs": [],
   "source": []
  }
 ],
 "metadata": {
  "kernelspec": {
   "display_name": "anytelop",
   "language": "python",
   "name": "python3"
  },
  "language_info": {
   "codemirror_mode": {
    "name": "ipython",
    "version": 3
   },
   "file_extension": ".py",
   "mimetype": "text/x-python",
   "name": "python",
   "nbconvert_exporter": "python",
   "pygments_lexer": "ipython3",
   "version": "3.9.23"
  }
 },
 "nbformat": 4,
 "nbformat_minor": 5
}
