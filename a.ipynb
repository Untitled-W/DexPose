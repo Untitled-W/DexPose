{
 "cells": [
  {
   "cell_type": "code",
   "execution_count": 2,
   "id": "2bfa7fb0",
   "metadata": {},
   "outputs": [],
   "source": [
    "import torch\n",
    "import pickle\n",
    "\n",
    "with open(\"/home/qianxu/Desktop/Project/DexPose/data/Taco/human_save0927/seq_feature_1.p\", \"rb\") as f:\n",
    "    data = pickle.load(f)\n",
    "    "
   ]
  },
  {
   "cell_type": "code",
   "execution_count": 12,
   "id": "9c5acf0a",
   "metadata": {},
   "outputs": [
    {
     "data": {
      "text/plain": [
       "dict_keys(['rh_joints', 'ro_transf', 'ro_points', 'rh_params', 'ro_normals', 'lh_joints', 'lo_transf', 'lo_points', 'lh_params', 'lo_normals', 'contact_indices', 'side', 'task_desc', 'seq_len', 'which_dataset', 'which_sequence', 'uid', 'object_mesh_path'])"
      ]
     },
     "execution_count": 12,
     "metadata": {},
     "output_type": "execute_result"
    }
   ],
   "source": [
    "data[0].keys()"
   ]
  }
 ],
 "metadata": {
  "kernelspec": {
   "display_name": "anytelop",
   "language": "python",
   "name": "python3"
  },
  "language_info": {
   "codemirror_mode": {
    "name": "ipython",
    "version": 3
   },
   "file_extension": ".py",
   "mimetype": "text/x-python",
   "name": "python",
   "nbconvert_exporter": "python",
   "pygments_lexer": "ipython3",
   "version": "3.9.23"
  }
 },
 "nbformat": 4,
 "nbformat_minor": 5
}
